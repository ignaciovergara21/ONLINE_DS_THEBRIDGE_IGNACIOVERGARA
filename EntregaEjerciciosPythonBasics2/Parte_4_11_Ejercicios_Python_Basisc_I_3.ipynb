{
 "cells": [
  {
   "cell_type": "markdown",
   "metadata": {
    "id": "xuuPda9g3sjJ"
   },
   "source": [
    "![TheBridge_logo_RGB_color.jpg](attachment:TheBridge_logo_RGB_color.jpg)"
   ]
  },
  {
   "cell_type": "markdown",
   "metadata": {
    "id": "iLlwxWt43sjK"
   },
   "source": [
    "![imagen](./img/ejercicios.png)"
   ]
  },
  {
   "cell_type": "markdown",
   "metadata": {
    "id": "bLIShpLr3sjL"
   },
   "source": [
    "## EJERCICIOS PYTHON BASICO 3:\n",
    "## Operaciones matemáticas, comparación y booleanas"
   ]
  },
  {
   "cell_type": "markdown",
   "metadata": {
    "id": "26CfadMQ3sjM"
   },
   "source": [
    "Completa los siguiente ejercicios, la solución completa a los mismos se publicarán en el repo del curso a lo largo del sprint. En algunos ejercicios se muestra la solución final, para que puedas comprobar que lo has hecho bien, pero lo importante es el código que generes. ¡Vaaamos, a ello...!"
   ]
  },
  {
   "cell_type": "markdown",
   "metadata": {
    "id": "qI0blyUJ3sjM"
   },
   "source": [
    "![ejercicio.png](./img/ejercicio.png)\n",
    "\n",
    "\n",
    "## Ejercicio 1\n",
    "Tenemos las siguientes variables:\n",
    "\n",
    "```Python\n",
    "A = 4\n",
    "B = \"Text\"\n",
    "C = 4.1\n",
    "```\n",
    "\n",
    "Comprueba:\n",
    "1. Si A y B son equivalentes\n",
    "2. Si A y C NO son equivalentes\n",
    "3. Si A es mayor que C\n",
    "4. Si C es menor o igual que A\n",
    "5. Si B NO es equivalente a C"
   ]
  },
  {
   "cell_type": "code",
   "execution_count": 14,
   "metadata": {
    "id": "AiQMMzWE3sjN",
    "outputId": "16936b19-e1d5-454a-db8d-248b8b7e35e7"
   },
   "outputs": [
    {
     "name": "stdout",
     "output_type": "stream",
     "text": [
      "False\n",
      "True\n",
      "False\n",
      "False\n",
      "True\n"
     ]
    }
   ],
   "source": [
    "A = 4\n",
    "B = \"Text\"\n",
    "C = 4.1\n",
    "\n",
    "print(A == B)\n",
    "print(A != C)\n",
    "print(A > C)\n",
    "print(C <= A)\n",
    "print(B != C)\n",
    "\n"
   ]
  },
  {
   "cell_type": "code",
   "execution_count": null,
   "metadata": {},
   "outputs": [],
   "source": []
  },
  {
   "cell_type": "markdown",
   "metadata": {
    "id": "0uEJDwk23sjO"
   },
   "source": [
    "![ejercicio.png](./img/ejercicio.png)\n",
    "\n",
    "## Ejercicio 2\n",
    "Crea un programa donde se recojan dos inputs del usuario, y el output del programa sea si esos inputs son iguales o no"
   ]
  },
  {
   "cell_type": "code",
   "execution_count": 18,
   "metadata": {
    "id": "0y9NEZEg3sjO"
   },
   "outputs": [
    {
     "name": "stdin",
     "output_type": "stream",
     "text": [
      "Introduce dos valores para ver si son iguales:\n",
      " Valor 1: 5\n",
      " Valor 2: 5\n"
     ]
    },
    {
     "name": "stdout",
     "output_type": "stream",
     "text": [
      "5 y 5 son iguales\n"
     ]
    }
   ],
   "source": [
    "val1 = input(\"Introduce dos valores para ver si son iguales:\\n Valor 1:\")\n",
    "val2 = input(\" Valor 2:\")\n",
    "if val1 == val2:\n",
    "    print(val1, \"y\", val2, \"son iguales\")\n",
    "else:\n",
    "    print(val1, \"y\", val2, \"no son iguales\")\n",
    "    "
   ]
  },
  {
   "cell_type": "markdown",
   "metadata": {
    "id": "WXDB_Bi83sjP"
   },
   "source": [
    "![ejercicio.png](./img/ejercicio.png)\n",
    "\n",
    "## Ejercicio 3\n",
    "Mismo programa que en 2, pero en esta ocasión tienen que ser tres inputs y dos salidas. Una de las salidas que nos indique si todos son iguales, y la otra si al menos dos inputs sí que lo son"
   ]
  },
  {
   "cell_type": "code",
   "execution_count": 21,
   "metadata": {
    "id": "Z8jXKAp33sjP",
    "outputId": "d84ec487-250c-4072-a442-4f587e93e92f"
   },
   "outputs": [
    {
     "name": "stdin",
     "output_type": "stream",
     "text": [
      "Introduce tres valores para ver si son iguales:\n",
      " Valor 1: 0\n",
      " Valor 2: asaa\n",
      " Valor 3: ke\n"
     ]
    },
    {
     "name": "stdout",
     "output_type": "stream",
     "text": [
      "No son iguales\n"
     ]
    }
   ],
   "source": [
    "val1 = input(\"Introduce tres valores para ver si son iguales:\\n Valor 1:\")\n",
    "val2 = input(\" Valor 2:\")\n",
    "val3 = input(\" Valor 3:\")\n",
    "\n",
    "if val1 == val2 and val1 == val3:\n",
    "    print(\"Los 3 son iguales\")\n",
    "elif val1 == val2 or val1 == val3 or val2 == val3:\n",
    "    print(\"2 son iguales\")\n",
    "else:\n",
    "    print(\"No son iguales\")\n",
    "    "
   ]
  },
  {
   "cell_type": "markdown",
   "metadata": {
    "id": "egC9rA8U3sjQ"
   },
   "source": [
    "![ejercicio.png](./img/ejercicio.png)\n",
    "\n",
    "## Ejercicio 4\n",
    "Razona sin ejecutar código el output que obtendremos de las siguientes sentencias\n",
    "1. True and True and False\n",
    "2. not ((True or False) and (True or False))\n",
    "3. (False or False or False or True) and False\n",
    "4. not False and True and not True"
   ]
  },
  {
   "cell_type": "markdown",
   "metadata": {
    "id": "ih9xmrfa3sjQ"
   },
   "source": [
    "1. False, porque al ser \"and\" se tienen que cumplir las 3\n",
    "2. False, porque el primer parentesis es true asi que not true es false y como tambien hay un and pues ya es false\n",
    "3. False, porque el parentesis es True porque hay un True y es or asi que con uno nos vale, luego es and False, asi que True and False es False\n",
    "4. False, not False es True, luego True y luego not True es False, asi que como era and nos queda False"
   ]
  },
  {
   "cell_type": "code",
   "execution_count": null,
   "metadata": {},
   "outputs": [],
   "source": []
  }
 ],
 "metadata": {
  "colab": {
   "provenance": []
  },
  "kernelspec": {
   "display_name": "Python 3 (ipykernel)",
   "language": "python",
   "name": "python3"
  },
  "language_info": {
   "codemirror_mode": {
    "name": "ipython",
    "version": 3
   },
   "file_extension": ".py",
   "mimetype": "text/x-python",
   "name": "python",
   "nbconvert_exporter": "python",
   "pygments_lexer": "ipython3",
   "version": "3.14.0"
  }
 },
 "nbformat": 4,
 "nbformat_minor": 4
}
