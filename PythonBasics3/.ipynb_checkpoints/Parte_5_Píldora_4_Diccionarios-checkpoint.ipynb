{
 "cells": [
  {
   "cell_type": "markdown",
   "metadata": {
    "id": "7qd777OT9Jjh"
   },
   "source": [
    "![TheBridge_Python_v0.png](attachment:TheBridge_Python_v0.png)"
   ]
  },
  {
   "cell_type": "markdown",
   "metadata": {
    "id": "RuQs51IF9Jji"
   },
   "source": [
    "## Colecciones Python: Diccionarios\n"
   ]
  },
  {
   "cell_type": "markdown",
   "metadata": {
    "id": "Gt8n--Lz9Jjj"
   },
   "source": [
    "### Contenidos\n"
   ]
  },
  {
   "cell_type": "markdown",
   "metadata": {
    "id": "XRP4lLRk9Jjk"
   },
   "source": [
    "* [Introducción](#Introducción)\n",
    "\n",
    "* [Acceso, modificación, añadir, eliminar](#Acceso,-modificación,-añadir,-eliminar)\n",
    "\n",
    "* [Iterar](#Iterar)\n",
    "\n"
   ]
  },
  {
   "cell_type": "markdown",
   "metadata": {
    "id": "BN1t2bwZ9Jjk"
   },
   "source": [
    "### Introducción\n",
    "[al indice](#Contenidos)  \n",
    "\n",
    "En este tipo de colecciones no solo podemos agrupar datos, sino que tenemos la posibilidad de establecer una relación entre los mismos, con la forma **clave: valor**.\n",
    "\n",
    "La sintaxis  es mediante llaves `{}`\n",
    "\n",
    "> nombre_diccionario = {clave1: valor1, clave2: valor2, clave3: valor3}\n",
    "\n",
    "Si veíamos que las listas son elementos mutables y y ordenadas, y las tuplas inmutables y ordenadas, los diccionarios son:\n",
    "\n",
    "* **Mutables**: podemos modificar sus elementos\n",
    "* **Desordenado**: la potencia de acceso de los diccionarios es su formato clave-valor, no su orden. Aun así, el dicionario conserva el orden de los elemento según los vamos insertando.\n",
    "\n",
    "Vamos a declarar un diccionario en el que definiremos elementos de un coche"
   ]
  },
  {
   "cell_type": "code",
   "execution_count": 1,
   "metadata": {
    "id": "UgDy1jlz9Jjl"
   },
   "outputs": [
    {
     "data": {
      "text/plain": [
       "{'color': 'Rojo', 'marca': 'Tesla', 'modelo': 'Cybertruck', 'peso': 3500}"
      ]
     },
     "execution_count": 1,
     "metadata": {},
     "output_type": "execute_result"
    }
   ],
   "source": [
    "coche_dict = {\n",
    "    \"color\": \"Rojo\",\n",
    "    \"marca\": \"Tesla\",\n",
    "    \"modelo\": \"Cybertruck\",\n",
    "    \"peso\": 3500,\n",
    "    \n",
    "}\n",
    "coche_dict"
   ]
  },
  {
   "cell_type": "markdown",
   "metadata": {
    "id": "-OhvkE-U9Jjl"
   },
   "source": [
    "Se puede almacenar todo tipo de datos: numero, cadena, booleano, listas, tuplas, diccionarios...\n",
    "\n",
    "Cuando declaremos el diccionario, lo podemos hacer en una sola linea `coche = {\"color\"=\"Gris\", \"marca\"...}`, aunque se recomienda por sencillez a la hora de leer el código, realizar esta acción en varias líneas. Si escribimos el primer elemento y presionamos enter, Jupyter introduce automáticamente la tabulación."
   ]
  },
  {
   "cell_type": "markdown",
   "metadata": {
    "id": "ijrSXzhB9Jjm"
   },
   "source": [
    "### Acceso, modificación, añadir, eliminar\n",
    "[al indice](#Contenidos)  \n",
    "\n"
   ]
  },
  {
   "cell_type": "code",
   "execution_count": 9,
   "metadata": {
    "id": "osMCOkCc9Jjn"
   },
   "outputs": [
    {
     "name": "stdout",
     "output_type": "stream",
     "text": [
      "['rojo', 'gris']\n",
      "3500\n",
      "{'color': ['rojo', 'gris'], 'marca': 'Tesla', 'modelo': 'Cybertruck', 'peso': 3500}\n",
      "6\n",
      "{'color': ['rojo', 'gris'], 'marca': 'Tesla', 'modelo': 'Cybertruck', 'peso': 3500}\n",
      "dict_keys(['color', 'marca', 'modelo', 'peso'])\n",
      "dict_values([['rojo', 'gris'], 'Tesla', 'Cybertruck', 3500])\n"
     ]
    }
   ],
   "source": [
    "print(coche_dict[\"color\"])\n",
    "print(coche_dict[\"peso\"])\n",
    "coche_dict[\"color\"] = [\"rojo\",\"gris\"]\n",
    "print(coche_dict)\n",
    "\n",
    "#Añadir elemento\n",
    "coche_dict[\"puertas\"] = 6\n",
    "print(coche_dict[\"puertas\"])\n",
    "\n",
    "#Eliminar elemento\n",
    "del coche_dict[\"puertas\"]\n",
    "print(coche_dict)\n",
    "\n",
    "#Conocer las claves del diccionario\n",
    "print(coche_dict.keys())\n",
    "\n",
    "#Conocer los valores del diccionario\n",
    "print(coche_dict.values())\n"
   ]
  },
  {
   "cell_type": "markdown",
   "metadata": {
    "id": "5ww_WFTO9Jjn"
   },
   "source": [
    "Para más detalle de los métodos de los diccionario puedes [consultar la documentación](https://www.w3schools.com/python/python_ref_dictionary.asp)"
   ]
  },
  {
   "cell_type": "code",
   "execution_count": 10,
   "metadata": {
    "id": "tLcn8Y049Jjn"
   },
   "outputs": [
    {
     "name": "stdout",
     "output_type": "stream",
     "text": [
      "{'nombre': 'Montesa'}\n"
     ]
    }
   ],
   "source": [
    "# Podemos empezar tambien mediante un diccionario vacío\n",
    "tienda = {}\n",
    "tienda[\"nombre\"] = \"Montesa\"\n",
    "print(tienda)"
   ]
  },
  {
   "cell_type": "markdown",
   "metadata": {
    "id": "krFyjw5M9Jjo"
   },
   "source": [
    "<table align=\"left\">\n",
    " <tr>\n",
    "     <td style=\"text-align:left\">\n",
    "         <h3>ERRORES en diccionarios</h3>\n",
    "         \n",
    " </td></tr>\n",
    "</table>"
   ]
  },
  {
   "cell_type": "markdown",
   "metadata": {
    "id": "7XTRnqI89Jjo"
   },
   "source": [
    "Si hay una clave que no existe en el diccionario, saltará un error.\n",
    "\n",
    "En este caso, el error es bastante intuitivo: `KeyError`, no encuentra la clave"
   ]
  },
  {
   "cell_type": "code",
   "execution_count": null,
   "metadata": {
    "id": "1MItcewD9Jjo"
   },
   "outputs": [],
   "source": []
  },
  {
   "cell_type": "markdown",
   "metadata": {
    "id": "VbYcViEq9Jjo"
   },
   "source": [
    "**¿Cómo solventar esto?** Sirmpre tienes la opción de usar el bloque `try/except`, pero en este caso, los diccionarios tienen una solución más elegante: `mi_diccionario.get(clave, valor si no existe)`"
   ]
  },
  {
   "cell_type": "code",
   "execution_count": 11,
   "metadata": {
    "id": "2o52EarJ9Jjo"
   },
   "outputs": [
    {
     "name": "stdout",
     "output_type": "stream",
     "text": [
      "4\n"
     ]
    }
   ],
   "source": [
    "puertas = coche_dict.get(\"puertas\",4)\n",
    "print(puertas)"
   ]
  },
  {
   "cell_type": "markdown",
   "metadata": {
    "id": "BR1D6wYX9Jjo"
   },
   "source": [
    "### Iterar\n",
    "[al indice](#Contenidos)  \n",
    "\n",
    "Que el diccionario no esté ordenado, no quiere decir que no podamos iterar sus elementos, ya que también es un **interable**, como los son las listas o las tuplas."
   ]
  },
  {
   "cell_type": "code",
   "execution_count": 13,
   "metadata": {
    "id": "g3Nr3K8F9Jjp"
   },
   "outputs": [
    {
     "name": "stdout",
     "output_type": "stream",
     "text": [
      "color : ['rojo', 'gris']\n",
      "marca : Tesla\n",
      "modelo : Cybertruck\n",
      "peso : 3500\n"
     ]
    }
   ],
   "source": [
    "for i in coche_dict:\n",
    "    print(i, \":\",coche_dict[i])\n",
    "    "
   ]
  },
  {
   "cell_type": "code",
   "execution_count": 14,
   "metadata": {
    "id": "MIDG4E-49Jjp"
   },
   "outputs": [
    {
     "data": {
      "text/plain": [
       "dict_items([('color', ['rojo', 'gris']), ('marca', 'Tesla'), ('modelo', 'Cybertruck'), ('peso', 3500)])"
      ]
     },
     "execution_count": 14,
     "metadata": {},
     "output_type": "execute_result"
    }
   ],
   "source": [
    "coche_dict.items()"
   ]
  },
  {
   "cell_type": "code",
   "execution_count": 15,
   "metadata": {},
   "outputs": [
    {
     "name": "stdout",
     "output_type": "stream",
     "text": [
      "color : ['rojo', 'gris']\n",
      "marca : Tesla\n",
      "modelo : Cybertruck\n",
      "peso : 3500\n"
     ]
    }
   ],
   "source": [
    "for clave,valor in coche_dict.items():\n",
    "    print(clave,\":\",valor)"
   ]
  },
  {
   "cell_type": "code",
   "execution_count": null,
   "metadata": {},
   "outputs": [],
   "source": []
  }
 ],
 "metadata": {
  "colab": {
   "provenance": []
  },
  "kernelspec": {
   "display_name": "Python 3 (ipykernel)",
   "language": "python",
   "name": "python3"
  },
  "language_info": {
   "codemirror_mode": {
    "name": "ipython",
    "version": 3
   },
   "file_extension": ".py",
   "mimetype": "text/x-python",
   "name": "python",
   "nbconvert_exporter": "python",
   "pygments_lexer": "ipython3",
   "version": "3.14.0"
  }
 },
 "nbformat": 4,
 "nbformat_minor": 4
}
